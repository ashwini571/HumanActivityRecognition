{
  "nbformat": 4,
  "nbformat_minor": 0,
  "metadata": {
    "colab": {
      "name": "HAR_DL.ipynb",
      "provenance": [],
      "authorship_tag": "ABX9TyMo3sbUoEJUNNFFwZdJr+4L",
      "include_colab_link": true
    },
    "kernelspec": {
      "name": "python3",
      "display_name": "Python 3"
    }
  },
  "cells": [
    {
      "cell_type": "markdown",
      "metadata": {
        "id": "view-in-github",
        "colab_type": "text"
      },
      "source": [
        "<a href=\"https://colab.research.google.com/github/ashwini571/HumanActivityRecognition/blob/master/HAR_DL.ipynb\" target=\"_parent\"><img src=\"https://colab.research.google.com/assets/colab-badge.svg\" alt=\"Open In Colab\"/></a>"
      ]
    },
    {
      "cell_type": "markdown",
      "metadata": {
        "id": "KNFnyMFmVojn"
      },
      "source": [
        "### Deep Learning approach"
      ]
    },
    {
      "cell_type": "markdown",
      "metadata": {
        "id": "3_YaIzDeYSff"
      },
      "source": [
        "Importing Libraries"
      ]
    },
    {
      "cell_type": "code",
      "metadata": {
        "id": "a3AZ0BdEOvEE"
      },
      "source": [
        "import io \n",
        "import numpy as np\n",
        "import pandas as pd\n",
        "from keras.models import Sequential\n",
        "from keras.layers import Convolution2D\n",
        "from keras.layers import MaxPooling2D\n",
        "from keras.layers import Flatten\n",
        "from keras.layers import Dense"
      ],
      "execution_count": 6,
      "outputs": []
    },
    {
      "cell_type": "markdown",
      "metadata": {
        "id": "Q30rPLKIYEzz"
      },
      "source": [
        "Mounting GDrive for dataset"
      ]
    },
    {
      "cell_type": "code",
      "metadata": {
        "id": "oEy7NMhkOxnH",
        "outputId": "4cd5f16e-c007-4c07-b7e4-1be1bdf0bd2a",
        "colab": {
          "base_uri": "https://localhost:8080/"
        }
      },
      "source": [
        "from google.colab import drive\n",
        "\n",
        "drive.mount('/content/drive')\n",
        "\n",
        "path_train = 'drive/My Drive/Colab Notebooks/datasets/raw_signals/train/'\n",
        "path_test  = 'drive/My Drive/Colab Notebooks/datasets/raw_signals/test/'"
      ],
      "execution_count": 35,
      "outputs": [
        {
          "output_type": "stream",
          "text": [
            "Drive already mounted at /content/drive; to attempt to forcibly remount, call drive.mount(\"/content/drive\", force_remount=True).\n"
          ],
          "name": "stdout"
        }
      ]
    },
    {
      "cell_type": "markdown",
      "metadata": {
        "id": "ZChvgsifdCDg"
      },
      "source": [
        "Reading data"
      ]
    },
    {
      "cell_type": "code",
      "metadata": {
        "id": "FmYw3AQGVh0p"
      },
      "source": [
        "activities = {1: 'WALKING',\n",
        "2: 'WALKING_UPSTAIRS',\n",
        "3: 'WALKING_DOWNSTAIRS',\n",
        "4: 'SITTING',\n",
        "5: 'STANDING',\n",
        "6: 'LAYING'\n",
        "}\n",
        "raw_signals_trainList = ['body_acc_x_train','body_acc_y_train','body_acc_z_train','body_gyro_x_train','body_gyro_y_train','body_gyro_z_train','total_acc_x_train','total_acc_y_train',\n",
        "                     'total_acc_z_train']\n",
        "raw_signals_testList = ['body_acc_x_test','body_acc_y_test','body_acc_z_test','body_gyro_x_test','body_gyro_y_test','body_gyro_z_test','total_acc_x_test','total_acc_y_test',\n",
        "                     'total_acc_z_test']\n",
        "\n",
        "def load_x(list,path):\n",
        "  data = []\n",
        "  for signal in list:\n",
        "    data.append(pd.read_csv(path+signal+'.txt',delim_whitespace=True, header=None).to_numpy())\n",
        "  \n",
        "  return np.transpose(data, (1,2,0))\n",
        "\n",
        "def load_y():\n",
        "  return pd.read_csv()\n"
      ],
      "execution_count": 37,
      "outputs": []
    },
    {
      "cell_type": "code",
      "metadata": {
        "id": "cXGwoMnaViW7"
      },
      "source": [
        "X_train, X_test = load_x(raw_signals_trainList, path_train), load_x(raw_signals_testList, path_test)"
      ],
      "execution_count": 48,
      "outputs": []
    }
  ]
}